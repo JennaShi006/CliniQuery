{
  "cells": [
    {
      "cell_type": "code",
      "execution_count": null,
      "metadata": {
        "id": "GR0_G8NVlkDr"
      },
      "outputs": [],
      "source": [
        "!pip install faker"
      ]
    },
    {
      "cell_type": "code",
      "execution_count": 34,
      "metadata": {
        "id": "Pp12tlHbd5Pk"
      },
      "outputs": [],
      "source": [
        "import pandas as pd\n",
        "import numpy as np\n",
        "from faker import Faker"
      ]
    },
    {
      "cell_type": "code",
      "execution_count": 35,
      "metadata": {
        "id": "MrpumyyLd9z5"
      },
      "outputs": [],
      "source": [
        "fake = Faker()\n",
        "Faker.seed(16)"
      ]
    },
    {
      "cell_type": "code",
      "execution_count": 36,
      "metadata": {
        "id": "0827Oc_se7Uk"
      },
      "outputs": [],
      "source": [
        "# Generate 100,000 full names\n",
        "full_names = [fake.first_name() + ' ' + fake.last_name() for x in range(100000)]"
      ]
    },
    {
      "cell_type": "code",
      "execution_count": 37,
      "metadata": {
        "id": "MX2NsPiHf0z1"
      },
      "outputs": [],
      "source": [
        "# List of symptoms\n",
        "symptoms = [\n",
        "    'Fever', 'Chest pains', 'Abdominal pain', 'Cough', 'Fatigue', 'Nausea',\n",
        "    'Bleeding', 'Seizures', 'Dizziness', 'Headaches', 'Shortness of breath',\n",
        "    'Memory loss', 'Swelling', 'Diarrhea', 'Constipation', 'Joint pain'\n",
        "]"
      ]
    },
    {
      "cell_type": "code",
      "execution_count": 38,
      "metadata": {
        "id": "MTK3KoCSe_YU"
      },
      "outputs": [],
      "source": [
        "# Generate random 0/1 values for each symptom (100,000 rows x 16 symptoms)\n",
        "np.random.seed(16)\n",
        "symptom_data = np.random.choice([0, 1], size=(100000, len(symptoms)))"
      ]
    },
    {
      "cell_type": "code",
      "execution_count": 39,
      "metadata": {
        "id": "D3NtnKuhfEBB"
      },
      "outputs": [],
      "source": [
        "# Create DataFrame\n",
        "df = pd.DataFrame({\n",
        "    'Full Name': full_names,\n",
        "    **{symptom: symptom_data[:, i] for i, symptom in enumerate(symptoms)}\n",
        "})"
      ]
    },
    {
      "cell_type": "code",
      "execution_count": 41,
      "metadata": {
        "colab": {
          "base_uri": "https://localhost:8080/"
        },
        "id": "KVHc_m_6gURd",
        "outputId": "08fb4332-5240-4512-9e84-02ee808684cc"
      },
      "outputs": [
        {
          "name": "stdout",
          "output_type": "stream",
          "text": [
            "          Full Name  Fever  Chest pains  Abdominal pain  Cough  Fatigue  \\\n",
            "0  Michael Castillo      1            0               1      1        1   \n",
            "1    Robert Griffin      0            0               0      0        1   \n",
            "2   Robert Sandoval      0            1               0      1        0   \n",
            "3     Jonathan Reid      1            0               1      1        1   \n",
            "4  Alejandro Turner      0            1               0      0        1   \n",
            "\n",
            "   Nausea  Bleeding  Seizures  Dizziness  Headaches  Shortness of breath  \\\n",
            "0       1         0         1          1          0                    1   \n",
            "1       1         0         0          0          0                    1   \n",
            "2       0         1         1          0          1                    0   \n",
            "3       1         1         0          0          0                    0   \n",
            "4       0         1         1          1          1                    0   \n",
            "\n",
            "   Memory loss  Swelling  Diarrhea  Constipation  Joint pain  \n",
            "0            0         0         0             0           0  \n",
            "1            1         0         1             0           0  \n",
            "2            0         1         0             0           1  \n",
            "3            0         0         0             1           0  \n",
            "4            1         1         0             1           0  \n"
          ]
        }
      ],
      "source": [
        "print(df.head())"
      ]
    },
    {
      "cell_type": "code",
      "execution_count": 40,
      "metadata": {
        "id": "vtzVjifPgQv8"
      },
      "outputs": [],
      "source": [
        "# Save to CSV\n",
        "df.to_csv('CliniQuery_Data.csv', index=False)"
      ]
    }
  ],
  "metadata": {
    "colab": {
      "provenance": []
    },
    "kernelspec": {
      "display_name": "Python 3",
      "name": "python3"
    },
    "language_info": {
      "name": "python"
    }
  },
  "nbformat": 4,
  "nbformat_minor": 0
}
